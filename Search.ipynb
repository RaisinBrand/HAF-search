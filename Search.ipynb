{
 "cells": [
  {
   "cell_type": "code",
   "execution_count": 1,
   "id": "27877568-74b4-4e24-be2e-f4d85b704df9",
   "metadata": {},
   "outputs": [],
   "source": [
    "import pandas as pd"
   ]
  },
  {
   "cell_type": "code",
   "execution_count": 2,
   "id": "fd41a405-a63a-42ad-af01-6d143bd5afc0",
   "metadata": {},
   "outputs": [],
   "source": [
    "from fuzzywuzzy import fuzz\n",
    "from fuzzywuzzy import process"
   ]
  },
  {
   "cell_type": "code",
   "execution_count": 3,
   "id": "e171a17c-a086-4584-8fe0-3cd57fa1abf5",
   "metadata": {},
   "outputs": [],
   "source": [
    "df = pd.read_csv('HAF.csv')\n",
    "\n",
    "choices = df.columns.tolist()\n",
    "\n"
   ]
  },
  {
   "cell_type": "code",
   "execution_count": 7,
   "id": "dbe9266a-9330-4248-9d1a-955c8c6000e0",
   "metadata": {},
   "outputs": [
    {
     "data": {
      "text/plain": [
       "[(' Report Charts', 92),\n",
       " (' I/Q Record Aging Report', 62),\n",
       " (' B-Record Report', 59)]"
      ]
     },
     "execution_count": 7,
     "metadata": {},
     "output_type": "execute_result"
    }
   ],
   "source": [
    "x = \"reprt Chrts\"\n",
    "process.extract(x, choices, limit=3)"
   ]
  },
  {
   "cell_type": "code",
   "execution_count": null,
   "id": "1fc9e0ef-4d1c-492f-8d1f-3bbd57ad878d",
   "metadata": {},
   "outputs": [],
   "source": []
  }
 ],
 "metadata": {
  "kernelspec": {
   "display_name": "Python 3 (ipykernel)",
   "language": "python",
   "name": "python3"
  },
  "language_info": {
   "codemirror_mode": {
    "name": "ipython",
    "version": 3
   },
   "file_extension": ".py",
   "mimetype": "text/x-python",
   "name": "python",
   "nbconvert_exporter": "python",
   "pygments_lexer": "ipython3",
   "version": "3.12.4"
  }
 },
 "nbformat": 4,
 "nbformat_minor": 5
}
